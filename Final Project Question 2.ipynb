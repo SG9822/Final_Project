{
 "cells": [
  {
   "cell_type": "markdown",
   "id": "b933127a-f995-41ad-b920-13b2a9404bbf",
   "metadata": {},
   "source": [
    "## 2.Below table contains the bank details of customer – need to predict the how we can offer loan to customer based on the cybill score, Age, insurance, debit card , cards."
   ]
  },
  {
   "cell_type": "markdown",
   "id": "66d77bfc-e862-4d62-8210-72a64953bde2",
   "metadata": {},
   "source": [
    "### Eg. Dataset"
   ]
  },
  {
   "cell_type": "markdown",
   "id": "23c86d74-6856-423a-80db-f812f673bc8b",
   "metadata": {},
   "source": [
    "| Customer id | Cards | Debit card | Insurance | Age | Cibil Score | Loan offer |\n",
    "|-------------|-------|------------|-----------|-----|--------------|------------|\n",
    "|      5      |   0   |      1     |     0     |  50 |    34.94     |      0     |\n",
    "|      3      |   1   |      0     |     0     |  18 |    0.891     |      1     |\n",
    "|     66      |   0   |      1     |     0     |   5 |    0.33      |      1     |\n",
    "|     70      |   0   |      1     |     1     |  31 |    0.037     |      0     |\n",
    "|     96      |   0   |      1     |     0     |  30 |    0.038     |      1     |"
   ]
  },
  {
   "cell_type": "code",
   "execution_count": 1,
   "id": "9df8033d-e177-4005-9cc5-2b08312b5f7b",
   "metadata": {},
   "outputs": [],
   "source": [
    "import pandas as pd\n",
    "import numpy as np\n",
    "import matplotlib.pyplot as plt\n",
    "import warnings \n",
    "warnings.filterwarnings(\"ignore\")\n",
    "import plotly.express as px\n",
    "import seaborn as sns"
   ]
  },
  {
   "cell_type": "code",
   "execution_count": 2,
   "id": "eb2fcce9-a72f-4bce-8e4a-7885314f2689",
   "metadata": {},
   "outputs": [
    {
     "data": {
      "text/html": [
       "<div>\n",
       "<style scoped>\n",
       "    .dataframe tbody tr th:only-of-type {\n",
       "        vertical-align: middle;\n",
       "    }\n",
       "\n",
       "    .dataframe tbody tr th {\n",
       "        vertical-align: top;\n",
       "    }\n",
       "\n",
       "    .dataframe thead th {\n",
       "        text-align: right;\n",
       "    }\n",
       "</style>\n",
       "<table border=\"1\" class=\"dataframe\">\n",
       "  <thead>\n",
       "    <tr style=\"text-align: right;\">\n",
       "      <th></th>\n",
       "      <th>Cutomer id</th>\n",
       "      <th>Cards</th>\n",
       "      <th>Debit card</th>\n",
       "      <th>Insurance</th>\n",
       "      <th>Age</th>\n",
       "      <th>Cibil Score</th>\n",
       "      <th>Loan offer</th>\n",
       "    </tr>\n",
       "  </thead>\n",
       "  <tbody>\n",
       "    <tr>\n",
       "      <th>0</th>\n",
       "      <td>5</td>\n",
       "      <td>0.0</td>\n",
       "      <td>1.0</td>\n",
       "      <td>0.0</td>\n",
       "      <td>50.0</td>\n",
       "      <td>34.940</td>\n",
       "      <td>0</td>\n",
       "    </tr>\n",
       "    <tr>\n",
       "      <th>1</th>\n",
       "      <td>3</td>\n",
       "      <td>1.0</td>\n",
       "      <td>0.0</td>\n",
       "      <td>0.0</td>\n",
       "      <td>18.0</td>\n",
       "      <td>0.891</td>\n",
       "      <td>1</td>\n",
       "    </tr>\n",
       "    <tr>\n",
       "      <th>2</th>\n",
       "      <td>66</td>\n",
       "      <td>0.0</td>\n",
       "      <td>1.0</td>\n",
       "      <td>0.0</td>\n",
       "      <td>5.0</td>\n",
       "      <td>0.330</td>\n",
       "      <td>1</td>\n",
       "    </tr>\n",
       "    <tr>\n",
       "      <th>3</th>\n",
       "      <td>70</td>\n",
       "      <td>0.0</td>\n",
       "      <td>1.0</td>\n",
       "      <td>1.0</td>\n",
       "      <td>31.0</td>\n",
       "      <td>0.037</td>\n",
       "      <td>0</td>\n",
       "    </tr>\n",
       "    <tr>\n",
       "      <th>4</th>\n",
       "      <td>96</td>\n",
       "      <td>0.0</td>\n",
       "      <td>1.0</td>\n",
       "      <td>0.0</td>\n",
       "      <td>30.0</td>\n",
       "      <td>0.038</td>\n",
       "      <td>1</td>\n",
       "    </tr>\n",
       "  </tbody>\n",
       "</table>\n",
       "</div>"
      ],
      "text/plain": [
       "   Cutomer id  Cards  Debit card  Insurance   Age  Cibil Score  Loan offer\n",
       "0           5    0.0         1.0        0.0  50.0       34.940           0\n",
       "1           3    1.0         0.0        0.0  18.0        0.891           1\n",
       "2          66    0.0         1.0        0.0   5.0        0.330           1\n",
       "3          70    0.0         1.0        1.0  31.0        0.037           0\n",
       "4          96    0.0         1.0        0.0  30.0        0.038           1"
      ]
     },
     "execution_count": 2,
     "metadata": {},
     "output_type": "execute_result"
    }
   ],
   "source": [
    "data = pd.read_excel(\"Data set.xlsx\", sheet_name=1)\n",
    "data.head()"
   ]
  },
  {
   "cell_type": "code",
   "execution_count": 28,
   "id": "b5aa6ac6-f5e3-4121-bcfc-3de292ecf578",
   "metadata": {},
   "outputs": [
    {
     "data": {
      "text/plain": [
       "(1340, 7)"
      ]
     },
     "execution_count": 28,
     "metadata": {},
     "output_type": "execute_result"
    }
   ],
   "source": [
    "data.shape"
   ]
  },
  {
   "cell_type": "code",
   "execution_count": 29,
   "id": "546dfb6c-1248-4e80-b559-683d8887b33d",
   "metadata": {},
   "outputs": [
    {
     "data": {
      "text/plain": [
       "Cutomer id       int64\n",
       "Cards          float64\n",
       "Debit card     float64\n",
       "Insurance      float64\n",
       "Age            float64\n",
       "Cibil Score    float64\n",
       "Loan offer       int64\n",
       "dtype: object"
      ]
     },
     "execution_count": 29,
     "metadata": {},
     "output_type": "execute_result"
    }
   ],
   "source": [
    "data.dtypes"
   ]
  },
  {
   "cell_type": "markdown",
   "id": "a8e7a93d-3fea-4f4d-9ffc-80058344e40c",
   "metadata": {},
   "source": [
    "### Checking the null values"
   ]
  },
  {
   "cell_type": "code",
   "execution_count": 30,
   "id": "eb98f71c-5d68-4cbf-a337-bb24c89e6065",
   "metadata": {},
   "outputs": [
    {
     "data": {
      "text/plain": [
       "Cutomer id       0\n",
       "Cards           12\n",
       "Debit card      41\n",
       "Insurance       48\n",
       "Age            189\n",
       "Cibil Score      0\n",
       "Loan offer       0\n",
       "dtype: int64"
      ]
     },
     "execution_count": 30,
     "metadata": {},
     "output_type": "execute_result"
    }
   ],
   "source": [
    "data.isnull().sum()"
   ]
  },
  {
   "cell_type": "code",
   "execution_count": 31,
   "id": "720338fc-69b7-4354-84c3-78c3d2528338",
   "metadata": {},
   "outputs": [
    {
     "data": {
      "text/plain": [
       "Cutomer id      0.000000\n",
       "Cards           0.895522\n",
       "Debit card      3.059701\n",
       "Insurance       3.582090\n",
       "Age            14.104478\n",
       "Cibil Score     0.000000\n",
       "Loan offer      0.000000\n",
       "dtype: float64"
      ]
     },
     "execution_count": 31,
     "metadata": {},
     "output_type": "execute_result"
    }
   ],
   "source": [
    "(data.isnull().sum() / len(data)) * 100"
   ]
  },
  {
   "cell_type": "markdown",
   "id": "0bb7a562-9e61-4ac9-888b-ed00e8ce18bf",
   "metadata": {},
   "source": [
    "### Null value Imputing"
   ]
  },
  {
   "cell_type": "code",
   "execution_count": 3,
   "id": "407c9fe3-7058-42ed-bd90-cdef431236f0",
   "metadata": {},
   "outputs": [],
   "source": [
    "data['Cards'] = data['Cards'].fillna(0)"
   ]
  },
  {
   "cell_type": "code",
   "execution_count": 4,
   "id": "c339a880-7452-47f7-898b-32744d1f8699",
   "metadata": {},
   "outputs": [],
   "source": [
    "data['Debit card'] = data['Debit card'].fillna(data['Debit card'].mode()[0])"
   ]
  },
  {
   "cell_type": "code",
   "execution_count": 5,
   "id": "346e5958-4dfe-4bd5-84b5-c4fe8adb80f4",
   "metadata": {},
   "outputs": [],
   "source": [
    "data['Insurance'] = data['Insurance'].fillna(data['Insurance'].mode()[0])"
   ]
  },
  {
   "cell_type": "code",
   "execution_count": 6,
   "id": "caa07c9e-c0de-40f6-ac5a-e14e0228f5c2",
   "metadata": {},
   "outputs": [],
   "source": [
    "data['Age'] = data['Age'].fillna(data['Age'].median())"
   ]
  },
  {
   "cell_type": "markdown",
   "id": "6c1f55a6-af00-48c1-bd96-025e34268f32",
   "metadata": {},
   "source": [
    "### Again Checking Null Value"
   ]
  },
  {
   "cell_type": "code",
   "execution_count": 7,
   "id": "7a89f33c-6b50-4d6b-9f6c-19539aaeb926",
   "metadata": {},
   "outputs": [
    {
     "data": {
      "text/plain": [
       "Cutomer id     0\n",
       "Cards          0\n",
       "Debit card     0\n",
       "Insurance      0\n",
       "Age            0\n",
       "Cibil Score    0\n",
       "Loan offer     0\n",
       "dtype: int64"
      ]
     },
     "execution_count": 7,
     "metadata": {},
     "output_type": "execute_result"
    }
   ],
   "source": [
    "data.isnull().sum()"
   ]
  },
  {
   "cell_type": "markdown",
   "id": "36b60207-0771-4c24-9ae2-d0276f739b06",
   "metadata": {},
   "source": [
    "### Null value became zero and treated, so we can proceed further"
   ]
  },
  {
   "cell_type": "markdown",
   "id": "109b7a44-8985-4832-8b31-3a1a7acae39f",
   "metadata": {},
   "source": [
    "### Customer Id is not needed so I am not taking Customer Id"
   ]
  },
  {
   "cell_type": "code",
   "execution_count": 8,
   "id": "e8345530-41b6-4438-a685-5e389214695f",
   "metadata": {},
   "outputs": [],
   "source": [
    "X = data.iloc[:, 1:-1]\n",
    "y = data.iloc[:, -1]"
   ]
  },
  {
   "cell_type": "code",
   "execution_count": 9,
   "id": "a077ba8b-dc15-4ad1-802e-86305f58c273",
   "metadata": {},
   "outputs": [
    {
     "data": {
      "text/html": [
       "<div>\n",
       "<style scoped>\n",
       "    .dataframe tbody tr th:only-of-type {\n",
       "        vertical-align: middle;\n",
       "    }\n",
       "\n",
       "    .dataframe tbody tr th {\n",
       "        vertical-align: top;\n",
       "    }\n",
       "\n",
       "    .dataframe thead th {\n",
       "        text-align: right;\n",
       "    }\n",
       "</style>\n",
       "<table border=\"1\" class=\"dataframe\">\n",
       "  <thead>\n",
       "    <tr style=\"text-align: right;\">\n",
       "      <th></th>\n",
       "      <th>Cards</th>\n",
       "      <th>Debit card</th>\n",
       "      <th>Insurance</th>\n",
       "      <th>Age</th>\n",
       "      <th>Cibil Score</th>\n",
       "    </tr>\n",
       "  </thead>\n",
       "  <tbody>\n",
       "    <tr>\n",
       "      <th>0</th>\n",
       "      <td>0.0</td>\n",
       "      <td>1.0</td>\n",
       "      <td>0.0</td>\n",
       "      <td>50.0</td>\n",
       "      <td>34.940</td>\n",
       "    </tr>\n",
       "    <tr>\n",
       "      <th>1</th>\n",
       "      <td>1.0</td>\n",
       "      <td>0.0</td>\n",
       "      <td>0.0</td>\n",
       "      <td>18.0</td>\n",
       "      <td>0.891</td>\n",
       "    </tr>\n",
       "    <tr>\n",
       "      <th>2</th>\n",
       "      <td>0.0</td>\n",
       "      <td>1.0</td>\n",
       "      <td>0.0</td>\n",
       "      <td>5.0</td>\n",
       "      <td>0.330</td>\n",
       "    </tr>\n",
       "    <tr>\n",
       "      <th>3</th>\n",
       "      <td>0.0</td>\n",
       "      <td>1.0</td>\n",
       "      <td>1.0</td>\n",
       "      <td>31.0</td>\n",
       "      <td>0.037</td>\n",
       "    </tr>\n",
       "    <tr>\n",
       "      <th>4</th>\n",
       "      <td>0.0</td>\n",
       "      <td>1.0</td>\n",
       "      <td>0.0</td>\n",
       "      <td>30.0</td>\n",
       "      <td>0.038</td>\n",
       "    </tr>\n",
       "  </tbody>\n",
       "</table>\n",
       "</div>"
      ],
      "text/plain": [
       "   Cards  Debit card  Insurance   Age  Cibil Score\n",
       "0    0.0         1.0        0.0  50.0       34.940\n",
       "1    1.0         0.0        0.0  18.0        0.891\n",
       "2    0.0         1.0        0.0   5.0        0.330\n",
       "3    0.0         1.0        1.0  31.0        0.037\n",
       "4    0.0         1.0        0.0  30.0        0.038"
      ]
     },
     "execution_count": 9,
     "metadata": {},
     "output_type": "execute_result"
    }
   ],
   "source": [
    "X.head()"
   ]
  },
  {
   "cell_type": "code",
   "execution_count": 185,
   "id": "4d5594c1-2355-4d4f-a372-e5c3106e4dee",
   "metadata": {},
   "outputs": [
    {
     "data": {
      "text/plain": [
       "0    0\n",
       "1    1\n",
       "2    1\n",
       "3    0\n",
       "4    1\n",
       "Name: Loan offer, dtype: int64"
      ]
     },
     "execution_count": 185,
     "metadata": {},
     "output_type": "execute_result"
    }
   ],
   "source": [
    "y.head()"
   ]
  },
  {
   "cell_type": "markdown",
   "id": "ecfa1b1f-de60-4274-a30c-cb155cb8aacd",
   "metadata": {},
   "source": [
    "### Splitting the Dataset"
   ]
  },
  {
   "cell_type": "code",
   "execution_count": 10,
   "id": "b506f7ca-c485-4fbb-b493-0638c3e61503",
   "metadata": {},
   "outputs": [
    {
     "name": "stdout",
     "output_type": "stream",
     "text": [
      "1072 268 1072 268\n"
     ]
    }
   ],
   "source": [
    "from sklearn.model_selection import train_test_split\n",
    "Xtrain, Xtest, ytrain, ytest = train_test_split(X, y, test_size=0.2, random_state=42)\n",
    "print(len(Xtrain), len(Xtest), len(ytrain), len(ytest))"
   ]
  },
  {
   "cell_type": "markdown",
   "id": "c3721787-d97f-4fd5-9706-5ae3c210d1d6",
   "metadata": {},
   "source": [
    "### We are going to train the models with different models"
   ]
  },
  {
   "cell_type": "code",
   "execution_count": 11,
   "id": "35823e86-787b-4fe1-8783-e110e193b9d9",
   "metadata": {},
   "outputs": [],
   "source": [
    "from sklearn.linear_model import LogisticRegression\n",
    "from sklearn.svm import SVC\n",
    "from sklearn.neighbors import KNeighborsClassifier\n",
    "from sklearn.metrics import accuracy_score, confusion_matrix, classification_report, roc_auc_score, roc_curve, ConfusionMatrixDisplay"
   ]
  },
  {
   "cell_type": "markdown",
   "id": "d6708c62-33b1-4705-a481-224b201509db",
   "metadata": {},
   "source": [
    "### Logistic Regression"
   ]
  },
  {
   "cell_type": "code",
   "execution_count": 12,
   "id": "293790d1-b465-4854-b0f2-47b8911e8725",
   "metadata": {},
   "outputs": [
    {
     "data": {
      "text/html": [
       "<style>#sk-container-id-1 {color: black;background-color: white;}#sk-container-id-1 pre{padding: 0;}#sk-container-id-1 div.sk-toggleable {background-color: white;}#sk-container-id-1 label.sk-toggleable__label {cursor: pointer;display: block;width: 100%;margin-bottom: 0;padding: 0.3em;box-sizing: border-box;text-align: center;}#sk-container-id-1 label.sk-toggleable__label-arrow:before {content: \"▸\";float: left;margin-right: 0.25em;color: #696969;}#sk-container-id-1 label.sk-toggleable__label-arrow:hover:before {color: black;}#sk-container-id-1 div.sk-estimator:hover label.sk-toggleable__label-arrow:before {color: black;}#sk-container-id-1 div.sk-toggleable__content {max-height: 0;max-width: 0;overflow: hidden;text-align: left;background-color: #f0f8ff;}#sk-container-id-1 div.sk-toggleable__content pre {margin: 0.2em;color: black;border-radius: 0.25em;background-color: #f0f8ff;}#sk-container-id-1 input.sk-toggleable__control:checked~div.sk-toggleable__content {max-height: 200px;max-width: 100%;overflow: auto;}#sk-container-id-1 input.sk-toggleable__control:checked~label.sk-toggleable__label-arrow:before {content: \"▾\";}#sk-container-id-1 div.sk-estimator input.sk-toggleable__control:checked~label.sk-toggleable__label {background-color: #d4ebff;}#sk-container-id-1 div.sk-label input.sk-toggleable__control:checked~label.sk-toggleable__label {background-color: #d4ebff;}#sk-container-id-1 input.sk-hidden--visually {border: 0;clip: rect(1px 1px 1px 1px);clip: rect(1px, 1px, 1px, 1px);height: 1px;margin: -1px;overflow: hidden;padding: 0;position: absolute;width: 1px;}#sk-container-id-1 div.sk-estimator {font-family: monospace;background-color: #f0f8ff;border: 1px dotted black;border-radius: 0.25em;box-sizing: border-box;margin-bottom: 0.5em;}#sk-container-id-1 div.sk-estimator:hover {background-color: #d4ebff;}#sk-container-id-1 div.sk-parallel-item::after {content: \"\";width: 100%;border-bottom: 1px solid gray;flex-grow: 1;}#sk-container-id-1 div.sk-label:hover label.sk-toggleable__label {background-color: #d4ebff;}#sk-container-id-1 div.sk-serial::before {content: \"\";position: absolute;border-left: 1px solid gray;box-sizing: border-box;top: 0;bottom: 0;left: 50%;z-index: 0;}#sk-container-id-1 div.sk-serial {display: flex;flex-direction: column;align-items: center;background-color: white;padding-right: 0.2em;padding-left: 0.2em;position: relative;}#sk-container-id-1 div.sk-item {position: relative;z-index: 1;}#sk-container-id-1 div.sk-parallel {display: flex;align-items: stretch;justify-content: center;background-color: white;position: relative;}#sk-container-id-1 div.sk-item::before, #sk-container-id-1 div.sk-parallel-item::before {content: \"\";position: absolute;border-left: 1px solid gray;box-sizing: border-box;top: 0;bottom: 0;left: 50%;z-index: -1;}#sk-container-id-1 div.sk-parallel-item {display: flex;flex-direction: column;z-index: 1;position: relative;background-color: white;}#sk-container-id-1 div.sk-parallel-item:first-child::after {align-self: flex-end;width: 50%;}#sk-container-id-1 div.sk-parallel-item:last-child::after {align-self: flex-start;width: 50%;}#sk-container-id-1 div.sk-parallel-item:only-child::after {width: 0;}#sk-container-id-1 div.sk-dashed-wrapped {border: 1px dashed gray;margin: 0 0.4em 0.5em 0.4em;box-sizing: border-box;padding-bottom: 0.4em;background-color: white;}#sk-container-id-1 div.sk-label label {font-family: monospace;font-weight: bold;display: inline-block;line-height: 1.2em;}#sk-container-id-1 div.sk-label-container {text-align: center;}#sk-container-id-1 div.sk-container {/* jupyter's `normalize.less` sets `[hidden] { display: none; }` but bootstrap.min.css set `[hidden] { display: none !important; }` so we also need the `!important` here to be able to override the default hidden behavior on the sphinx rendered scikit-learn.org. See: https://github.com/scikit-learn/scikit-learn/issues/21755 */display: inline-block !important;position: relative;}#sk-container-id-1 div.sk-text-repr-fallback {display: none;}</style><div id=\"sk-container-id-1\" class=\"sk-top-container\"><div class=\"sk-text-repr-fallback\"><pre>LogisticRegression()</pre><b>In a Jupyter environment, please rerun this cell to show the HTML representation or trust the notebook. <br />On GitHub, the HTML representation is unable to render, please try loading this page with nbviewer.org.</b></div><div class=\"sk-container\" hidden><div class=\"sk-item\"><div class=\"sk-estimator sk-toggleable\"><input class=\"sk-toggleable__control sk-hidden--visually\" id=\"sk-estimator-id-1\" type=\"checkbox\" checked><label for=\"sk-estimator-id-1\" class=\"sk-toggleable__label sk-toggleable__label-arrow\">LogisticRegression</label><div class=\"sk-toggleable__content\"><pre>LogisticRegression()</pre></div></div></div></div></div>"
      ],
      "text/plain": [
       "LogisticRegression()"
      ]
     },
     "execution_count": 12,
     "metadata": {},
     "output_type": "execute_result"
    }
   ],
   "source": [
    "lc = LogisticRegression()\n",
    "lc.fit(Xtrain, ytrain)"
   ]
  },
  {
   "cell_type": "code",
   "execution_count": 13,
   "id": "d74f0c9d-ec95-4a57-a5ce-6cfc774e50ae",
   "metadata": {},
   "outputs": [
    {
     "data": {
      "text/plain": [
       "array([0, 0, 1, 1, 0, 0, 1, 1, 1, 0, 1, 1, 1, 1, 1, 0, 1, 1, 1, 0, 0, 0,\n",
       "       0, 0, 0, 1, 1, 1, 1, 1, 0, 1, 1, 1, 1, 1, 1, 0, 1, 0, 1, 1, 1, 1,\n",
       "       1, 0, 1, 0, 0, 1, 0, 1, 1, 1, 1, 0, 1, 1, 1, 1, 0, 0, 1, 0, 0, 1,\n",
       "       1, 0, 1, 1, 1, 0, 1, 1, 1, 0, 0, 1, 1, 1, 1, 1, 0, 1, 1, 0, 0, 0,\n",
       "       1, 1, 0, 1, 1, 0, 1, 1, 1, 0, 1, 0, 1, 1, 1, 1, 1, 0, 0, 0, 0, 1,\n",
       "       0, 1, 1, 1, 0, 1, 0, 0, 0, 0, 0, 1, 0, 1, 1, 1, 0, 1, 0, 0, 1, 1,\n",
       "       0, 1, 0, 0, 0, 1, 0, 1, 0, 1, 0, 1, 1, 1, 0, 0, 0, 0, 0, 1, 0, 1,\n",
       "       1, 0, 1, 0, 0, 0, 1, 1, 1, 0, 1, 1, 0, 0, 1, 0, 1, 0, 0, 1, 0, 1,\n",
       "       1, 1, 1, 0, 1, 0, 1, 0, 1, 0, 1, 1, 0, 0, 1, 1, 1, 1, 1, 0, 0, 0,\n",
       "       1, 1, 1, 0, 0, 1, 1, 0, 1, 1, 1, 0, 1, 0, 0, 1, 0, 1, 1, 1, 1, 1,\n",
       "       1, 0, 1, 1, 0, 1, 1, 1, 1, 0, 1, 1, 0, 0, 0, 0, 0, 0, 1, 1, 1, 1,\n",
       "       1, 1, 0, 1, 1, 1, 1, 0, 1, 0, 0, 1, 0, 1, 0, 1, 0, 0, 1, 0, 0, 1,\n",
       "       0, 0, 0, 1], dtype=int64)"
      ]
     },
     "execution_count": 13,
     "metadata": {},
     "output_type": "execute_result"
    }
   ],
   "source": [
    "y_pred = lc.predict(Xtest)\n",
    "y_pred"
   ]
  },
  {
   "cell_type": "code",
   "execution_count": 14,
   "id": "1056ef40-6811-48c3-af17-4406c4a62e34",
   "metadata": {},
   "outputs": [
    {
     "data": {
      "text/plain": [
       "0.7425373134328358"
      ]
     },
     "execution_count": 14,
     "metadata": {},
     "output_type": "execute_result"
    }
   ],
   "source": [
    "accuracy_score(ytest, y_pred)"
   ]
  },
  {
   "cell_type": "code",
   "execution_count": 248,
   "id": "c4171bae-7c0b-4f83-b859-8aac8391441e",
   "metadata": {},
   "outputs": [
    {
     "data": {
      "text/plain": [
       "0.7395089285714286"
      ]
     },
     "execution_count": 248,
     "metadata": {},
     "output_type": "execute_result"
    }
   ],
   "source": [
    "lc_auc = roc_auc_score(ytest, y_pred)\n",
    "lc_auc"
   ]
  },
  {
   "cell_type": "code",
   "execution_count": 16,
   "id": "7d5f4a16-5e5d-4c4c-8660-4c0155dfd37d",
   "metadata": {},
   "outputs": [
    {
     "data": {
      "text/plain": [
       "array([[ 86,  42],\n",
       "       [ 27, 113]], dtype=int64)"
      ]
     },
     "execution_count": 16,
     "metadata": {},
     "output_type": "execute_result"
    }
   ],
   "source": [
    "cm = confusion_matrix(ytest, y_pred)\n",
    "cm"
   ]
  },
  {
   "cell_type": "code",
   "execution_count": 17,
   "id": "5fce36e5-9f9d-4427-bbab-e740b87d4347",
   "metadata": {},
   "outputs": [
    {
     "data": {
      "image/png": "[encoded data removed]",
      "text/plain": [
       "<Figure size 300x300 with 2 Axes>"
      ]
     },
     "metadata": {},
     "output_type": "display_data"
    }
   ],
   "source": [
    "cm_display = ConfusionMatrixDisplay(cm, display_labels=['offer', 'Not Offer'])\n",
    "fig, ax = plt.subplots(figsize=(3, 3))\n",
    "cm_display.plot(cmap='Blues', values_format='.0f', ax=ax)\n",
    "plt.title('Confusion Matrix')\n",
    "plt.show()"
   ]
  },
  {
   "cell_type": "code",
   "execution_count": 18,
   "id": "c53e0bb2-7dea-4306-a32c-346689737b79",
   "metadata": {},
   "outputs": [
    {
     "name": "stdout",
     "output_type": "stream",
     "text": [
      "              precision    recall  f1-score   support\n",
      "\n",
      "           0       0.76      0.67      0.71       128\n",
      "           1       0.73      0.81      0.77       140\n",
      "\n",
      "    accuracy                           0.74       268\n",
      "   macro avg       0.75      0.74      0.74       268\n",
      "weighted avg       0.74      0.74      0.74       268\n",
      "\n"
     ]
    }
   ],
   "source": [
    "print(classification_report(ytest, y_pred))"
   ]
  },
  {
   "cell_type": "markdown",
   "id": "193b9c40-0504-4acc-b482-23f214fe385b",
   "metadata": {},
   "source": [
    "### Checking the model with our prediction"
   ]
  },
  {
   "cell_type": "markdown",
   "id": "d2f69bb1-c401-4d38-92da-0761489df042",
   "metadata": {},
   "source": [
    "### 1. Cards 1, Debit Card 1, Insurance 1, Age 20, Cibil Score 0.3"
   ]
  },
  {
   "cell_type": "code",
   "execution_count": 192,
   "id": "369afb4e-a5fc-4374-9f71-35e7d2c0d323",
   "metadata": {},
   "outputs": [
    {
     "data": {
      "text/plain": [
       "array([1], dtype=int64)"
      ]
     },
     "execution_count": 192,
     "metadata": {},
     "output_type": "execute_result"
    }
   ],
   "source": [
    "lc.predict([[1, 1, 1, 20, 0.3]])"
   ]
  },
  {
   "cell_type": "markdown",
   "id": "dbe8a1ae-9369-4bd7-9de3-94ca089aebfc",
   "metadata": {},
   "source": [
    "### 2. Cards 0, Debit Card 1, Insurance 1, Age 35, Cibil Score 0.04"
   ]
  },
  {
   "cell_type": "code",
   "execution_count": 228,
   "id": "4d47db66-ff7c-4d85-8e28-2de5c18f933f",
   "metadata": {},
   "outputs": [
    {
     "data": {
      "text/plain": [
       "array([0], dtype=int64)"
      ]
     },
     "execution_count": 228,
     "metadata": {},
     "output_type": "execute_result"
    }
   ],
   "source": [
    "lc.predict([[0, 1, 1, 35, 0.04]])"
   ]
  },
  {
   "cell_type": "markdown",
   "id": "f568855e-7a20-4165-bd39-c4098102f39f",
   "metadata": {},
   "source": [
    "### Support Vector Machine (SVC classifier)"
   ]
  },
  {
   "cell_type": "code",
   "execution_count": 19,
   "id": "7d009dc0-d7f4-49d5-86ca-2de808c56828",
   "metadata": {},
   "outputs": [],
   "source": [
    "svm = SVC(kernel='rbf', probability=True).fit(Xtrain, ytrain)"
   ]
  },
  {
   "cell_type": "code",
   "execution_count": 20,
   "id": "861dc35e-a795-41fb-a3d8-3fce70e2b553",
   "metadata": {},
   "outputs": [],
   "source": [
    "y_pred = svm.predict(Xtest)"
   ]
  },
  {
   "cell_type": "code",
   "execution_count": 21,
   "id": "8567bcae-cb69-4f1d-a766-9e0f0b4fe3d9",
   "metadata": {},
   "outputs": [
    {
     "data": {
      "text/plain": [
       "array([0, 0, 1, 1, 1, 0, 1, 1, 1, 0, 1, 1, 1, 1, 1, 0, 1, 1, 1, 0, 0, 0,\n",
       "       0, 1, 0, 1, 1, 1, 1, 1, 0, 1, 1, 1, 1, 1, 1, 0, 1, 0, 1, 1, 1, 1,\n",
       "       1, 1, 1, 0, 0, 1, 0, 1, 1, 1, 1, 0, 1, 1, 1, 1, 0, 1, 1, 0, 1, 1,\n",
       "       1, 0, 1, 1, 1, 0, 1, 1, 1, 0, 0, 1, 1, 1, 1, 1, 0, 1, 1, 0, 0, 1,\n",
       "       1, 1, 0, 1, 1, 0, 1, 1, 1, 0, 1, 0, 1, 1, 1, 1, 1, 1, 0, 0, 0, 1,\n",
       "       0, 1, 1, 1, 0, 1, 0, 1, 0, 0, 0, 1, 0, 1, 1, 1, 0, 1, 0, 1, 1, 1,\n",
       "       0, 1, 0, 0, 0, 1, 0, 1, 0, 1, 0, 1, 1, 1, 0, 1, 0, 0, 0, 1, 1, 1,\n",
       "       1, 0, 1, 0, 0, 0, 1, 1, 1, 0, 1, 1, 0, 0, 1, 0, 1, 0, 0, 1, 1, 1,\n",
       "       1, 1, 1, 0, 1, 1, 1, 1, 1, 0, 1, 1, 0, 0, 1, 1, 1, 1, 1, 0, 1, 1,\n",
       "       1, 1, 1, 0, 0, 1, 1, 0, 1, 1, 1, 0, 1, 0, 1, 1, 0, 1, 1, 1, 1, 1,\n",
       "       1, 0, 1, 1, 0, 1, 1, 1, 1, 0, 1, 1, 0, 0, 0, 0, 0, 0, 1, 1, 1, 1,\n",
       "       1, 1, 0, 1, 1, 1, 1, 0, 1, 0, 0, 1, 0, 1, 0, 1, 0, 0, 1, 0, 0, 1,\n",
       "       0, 0, 0, 1], dtype=int64)"
      ]
     },
     "execution_count": 21,
     "metadata": {},
     "output_type": "execute_result"
    }
   ],
   "source": [
    "y_pred"
   ]
  },
  {
   "cell_type": "code",
   "execution_count": 252,
   "id": "3d20116e-4fe6-426d-8252-503a9b678081",
   "metadata": {},
   "outputs": [
    {
     "data": {
      "text/plain": [
       "0.6940298507462687"
      ]
     },
     "execution_count": 252,
     "metadata": {},
     "output_type": "execute_result"
    }
   ],
   "source": [
    "accuracy_score(ytest, y_pred)"
   ]
  },
  {
   "cell_type": "code",
   "execution_count": 254,
   "id": "708f6eed-ed3f-4e09-8f90-c602d7eadf4e",
   "metadata": {},
   "outputs": [
    {
     "data": {
      "text/plain": [
       "0.6880580357142856"
      ]
     },
     "execution_count": 254,
     "metadata": {},
     "output_type": "execute_result"
    }
   ],
   "source": [
    "svm_auc = roc_auc_score(ytest, y_pred)\n",
    "svm_auc"
   ]
  },
  {
   "cell_type": "code",
   "execution_count": 22,
   "id": "1c7400dc-74ac-4054-951a-0a6865b1bdda",
   "metadata": {},
   "outputs": [
    {
     "data": {
      "text/plain": [
       "array([[ 71,  57],\n",
       "       [ 25, 115]], dtype=int64)"
      ]
     },
     "execution_count": 22,
     "metadata": {},
     "output_type": "execute_result"
    }
   ],
   "source": [
    "cm = confusion_matrix(ytest, y_pred)\n",
    "cm"
   ]
  },
  {
   "cell_type": "code",
   "execution_count": 23,
   "id": "607ec62e-d6e6-4378-a604-1db6ec806efc",
   "metadata": {},
   "outputs": [
    {
     "data": {
      "image/png": "[encoded data removed]",
      "text/plain": [
       "<Figure size 300x300 with 2 Axes>"
      ]
     },
     "metadata": {},
     "output_type": "display_data"
    }
   ],
   "source": [
    "cm_display = ConfusionMatrixDisplay(cm, display_labels=['offer', 'Not Offer'])\n",
    "fig, ax = plt.subplots(figsize=(3, 3))\n",
    "cm_display.plot(cmap='Blues', values_format='.0f', ax=ax)\n",
    "plt.title('Confusion Matrix')\n",
    "plt.show()"
   ]
  },
  {
   "cell_type": "code",
   "execution_count": 24,
   "id": "cab368f8-f21e-4768-84b1-c932265670d6",
   "metadata": {},
   "outputs": [
    {
     "name": "stdout",
     "output_type": "stream",
     "text": [
      "              precision    recall  f1-score   support\n",
      "\n",
      "           0       0.74      0.55      0.63       128\n",
      "           1       0.67      0.82      0.74       140\n",
      "\n",
      "    accuracy                           0.69       268\n",
      "   macro avg       0.70      0.69      0.69       268\n",
      "weighted avg       0.70      0.69      0.69       268\n",
      "\n"
     ]
    }
   ],
   "source": [
    "print(classification_report(ytest, y_pred))"
   ]
  },
  {
   "cell_type": "markdown",
   "id": "527030a0-5340-413f-8856-bb9fa244a204",
   "metadata": {},
   "source": [
    "### Checking the model with our prediction"
   ]
  },
  {
   "cell_type": "markdown",
   "id": "db29a527-1c96-4860-8368-085e6d777105",
   "metadata": {},
   "source": [
    "### 1. Cards 1, Debit Card 1, Insurance 1, Age 20, Cibil Score 0.3"
   ]
  },
  {
   "cell_type": "code",
   "execution_count": 242,
   "id": "7e1460b1-bdef-4a6f-89cd-dedf597eb2b2",
   "metadata": {},
   "outputs": [
    {
     "data": {
      "text/plain": [
       "array([1], dtype=int64)"
      ]
     },
     "execution_count": 242,
     "metadata": {},
     "output_type": "execute_result"
    }
   ],
   "source": [
    "svm.predict([[1, 1, 1, 20, 0.3]])"
   ]
  },
  {
   "cell_type": "markdown",
   "id": "c013da2d-a1c6-4840-8937-a0fcb8533ed9",
   "metadata": {},
   "source": [
    "### 2. Cards 0, Debit Card 1, Insurance 1, Age 35, Cibil Score 0.04"
   ]
  },
  {
   "cell_type": "code",
   "execution_count": 243,
   "id": "b3006db0-29af-4fc4-a6a6-a4931d5bec32",
   "metadata": {},
   "outputs": [
    {
     "data": {
      "text/plain": [
       "array([1], dtype=int64)"
      ]
     },
     "execution_count": 243,
     "metadata": {},
     "output_type": "execute_result"
    }
   ],
   "source": [
    "svm.predict([[0, 1, 1, 35, 0.04]])"
   ]
  },
  {
   "cell_type": "code",
   "execution_count": null,
   "id": "35e8809d-cc40-4f48-9887-065ec6e3c393",
   "metadata": {},
   "outputs": [],
   "source": []
  },
  {
   "cell_type": "markdown",
   "id": "7afb293e-2b2e-4c81-ac49-5ff397893917",
   "metadata": {},
   "source": [
    "### KNearest Neighbor Classifier"
   ]
  },
  {
   "cell_type": "code",
   "execution_count": 25,
   "id": "95a08f59-517a-49f0-83e5-c4c127104e0a",
   "metadata": {},
   "outputs": [],
   "source": [
    "knn =KNeighborsClassifier(n_neighbors=10)"
   ]
  },
  {
   "cell_type": "code",
   "execution_count": 26,
   "id": "3ab922e3-34ac-411e-bbca-e4df0c0c5d97",
   "metadata": {},
   "outputs": [
    {
     "data": {
      "text/html": [
       "<style>#sk-container-id-2 {color: black;background-color: white;}#sk-container-id-2 pre{padding: 0;}#sk-container-id-2 div.sk-toggleable {background-color: white;}#sk-container-id-2 label.sk-toggleable__label {cursor: pointer;display: block;width: 100%;margin-bottom: 0;padding: 0.3em;box-sizing: border-box;text-align: center;}#sk-container-id-2 label.sk-toggleable__label-arrow:before {content: \"▸\";float: left;margin-right: 0.25em;color: #696969;}#sk-container-id-2 label.sk-toggleable__label-arrow:hover:before {color: black;}#sk-container-id-2 div.sk-estimator:hover label.sk-toggleable__label-arrow:before {color: black;}#sk-container-id-2 div.sk-toggleable__content {max-height: 0;max-width: 0;overflow: hidden;text-align: left;background-color: #f0f8ff;}#sk-container-id-2 div.sk-toggleable__content pre {margin: 0.2em;color: black;border-radius: 0.25em;background-color: #f0f8ff;}#sk-container-id-2 input.sk-toggleable__control:checked~div.sk-toggleable__content {max-height: 200px;max-width: 100%;overflow: auto;}#sk-container-id-2 input.sk-toggleable__control:checked~label.sk-toggleable__label-arrow:before {content: \"▾\";}#sk-container-id-2 div.sk-estimator input.sk-toggleable__control:checked~label.sk-toggleable__label {background-color: #d4ebff;}#sk-container-id-2 div.sk-label input.sk-toggleable__control:checked~label.sk-toggleable__label {background-color: #d4ebff;}#sk-container-id-2 input.sk-hidden--visually {border: 0;clip: rect(1px 1px 1px 1px);clip: rect(1px, 1px, 1px, 1px);height: 1px;margin: -1px;overflow: hidden;padding: 0;position: absolute;width: 1px;}#sk-container-id-2 div.sk-estimator {font-family: monospace;background-color: #f0f8ff;border: 1px dotted black;border-radius: 0.25em;box-sizing: border-box;margin-bottom: 0.5em;}#sk-container-id-2 div.sk-estimator:hover {background-color: #d4ebff;}#sk-container-id-2 div.sk-parallel-item::after {content: \"\";width: 100%;border-bottom: 1px solid gray;flex-grow: 1;}#sk-container-id-2 div.sk-label:hover label.sk-toggleable__label {background-color: #d4ebff;}#sk-container-id-2 div.sk-serial::before {content: \"\";position: absolute;border-left: 1px solid gray;box-sizing: border-box;top: 0;bottom: 0;left: 50%;z-index: 0;}#sk-container-id-2 div.sk-serial {display: flex;flex-direction: column;align-items: center;background-color: white;padding-right: 0.2em;padding-left: 0.2em;position: relative;}#sk-container-id-2 div.sk-item {position: relative;z-index: 1;}#sk-container-id-2 div.sk-parallel {display: flex;align-items: stretch;justify-content: center;background-color: white;position: relative;}#sk-container-id-2 div.sk-item::before, #sk-container-id-2 div.sk-parallel-item::before {content: \"\";position: absolute;border-left: 1px solid gray;box-sizing: border-box;top: 0;bottom: 0;left: 50%;z-index: -1;}#sk-container-id-2 div.sk-parallel-item {display: flex;flex-direction: column;z-index: 1;position: relative;background-color: white;}#sk-container-id-2 div.sk-parallel-item:first-child::after {align-self: flex-end;width: 50%;}#sk-container-id-2 div.sk-parallel-item:last-child::after {align-self: flex-start;width: 50%;}#sk-container-id-2 div.sk-parallel-item:only-child::after {width: 0;}#sk-container-id-2 div.sk-dashed-wrapped {border: 1px dashed gray;margin: 0 0.4em 0.5em 0.4em;box-sizing: border-box;padding-bottom: 0.4em;background-color: white;}#sk-container-id-2 div.sk-label label {font-family: monospace;font-weight: bold;display: inline-block;line-height: 1.2em;}#sk-container-id-2 div.sk-label-container {text-align: center;}#sk-container-id-2 div.sk-container {/* jupyter's `normalize.less` sets `[hidden] { display: none; }` but bootstrap.min.css set `[hidden] { display: none !important; }` so we also need the `!important` here to be able to override the default hidden behavior on the sphinx rendered scikit-learn.org. See: https://github.com/scikit-learn/scikit-learn/issues/21755 */display: inline-block !important;position: relative;}#sk-container-id-2 div.sk-text-repr-fallback {display: none;}</style><div id=\"sk-container-id-2\" class=\"sk-top-container\"><div class=\"sk-text-repr-fallback\"><pre>KNeighborsClassifier(n_neighbors=10)</pre><b>In a Jupyter environment, please rerun this cell to show the HTML representation or trust the notebook. <br />On GitHub, the HTML representation is unable to render, please try loading this page with nbviewer.org.</b></div><div class=\"sk-container\" hidden><div class=\"sk-item\"><div class=\"sk-estimator sk-toggleable\"><input class=\"sk-toggleable__control sk-hidden--visually\" id=\"sk-estimator-id-2\" type=\"checkbox\" checked><label for=\"sk-estimator-id-2\" class=\"sk-toggleable__label sk-toggleable__label-arrow\">KNeighborsClassifier</label><div class=\"sk-toggleable__content\"><pre>KNeighborsClassifier(n_neighbors=10)</pre></div></div></div></div></div>"
      ],
      "text/plain": [
       "KNeighborsClassifier(n_neighbors=10)"
      ]
     },
     "execution_count": 26,
     "metadata": {},
     "output_type": "execute_result"
    }
   ],
   "source": [
    "knn.fit(Xtrain, ytrain)"
   ]
  },
  {
   "cell_type": "code",
   "execution_count": 257,
   "id": "fdf3ac83-3cb6-44cf-97ec-a8f822f2ae94",
   "metadata": {},
   "outputs": [
    {
     "data": {
      "text/plain": [
       "array([0, 0, 0, 1, 0, 0, 1, 1, 1, 0, 1, 1, 1, 0, 1, 0, 1, 1, 1, 0, 0, 0,\n",
       "       0, 0, 0, 0, 1, 1, 1, 1, 0, 1, 1, 0, 1, 0, 0, 0, 0, 0, 1, 1, 0, 1,\n",
       "       1, 1, 1, 0, 0, 1, 0, 1, 1, 1, 0, 0, 1, 1, 1, 1, 0, 0, 1, 0, 0, 1,\n",
       "       1, 0, 1, 1, 0, 0, 0, 1, 1, 1, 0, 1, 1, 1, 0, 1, 0, 1, 1, 0, 0, 0,\n",
       "       1, 1, 0, 0, 1, 0, 1, 0, 0, 0, 1, 0, 1, 1, 0, 1, 1, 1, 0, 0, 0, 1,\n",
       "       0, 1, 1, 1, 0, 1, 0, 0, 0, 0, 0, 1, 0, 1, 1, 1, 0, 0, 0, 1, 1, 0,\n",
       "       0, 1, 0, 0, 0, 1, 0, 0, 0, 1, 0, 0, 1, 0, 0, 0, 0, 0, 0, 1, 0, 0,\n",
       "       1, 0, 0, 0, 0, 0, 0, 0, 1, 0, 1, 1, 0, 0, 0, 0, 1, 0, 0, 1, 0, 1,\n",
       "       1, 1, 1, 0, 1, 0, 1, 1, 0, 0, 1, 1, 0, 0, 1, 0, 1, 1, 1, 0, 1, 1,\n",
       "       1, 1, 1, 0, 0, 1, 1, 0, 0, 0, 1, 0, 1, 0, 1, 1, 0, 1, 1, 1, 1, 1,\n",
       "       1, 0, 1, 1, 0, 1, 1, 1, 1, 0, 0, 1, 0, 0, 1, 0, 0, 1, 0, 1, 0, 0,\n",
       "       1, 0, 0, 0, 1, 0, 1, 0, 0, 0, 0, 1, 0, 1, 0, 1, 0, 0, 1, 0, 0, 1,\n",
       "       0, 1, 0, 1], dtype=int64)"
      ]
     },
     "execution_count": 257,
     "metadata": {},
     "output_type": "execute_result"
    }
   ],
   "source": [
    "y_pred = knn.predict(Xtest)\n",
    "y_pred"
   ]
  },
  {
   "cell_type": "code",
   "execution_count": 258,
   "id": "715e8872-c6dd-4293-9459-444e80f28428",
   "metadata": {},
   "outputs": [
    {
     "data": {
      "text/plain": [
       "0.6865671641791045"
      ]
     },
     "execution_count": 258,
     "metadata": {},
     "output_type": "execute_result"
    }
   ],
   "source": [
    "accuracy_score(ytest, y_pred)"
   ]
  },
  {
   "cell_type": "code",
   "execution_count": 259,
   "id": "32810a82-9a7a-4c32-96e2-a08fd51e4ccb",
   "metadata": {},
   "outputs": [
    {
     "data": {
      "text/plain": [
       "0.6879464285714285"
      ]
     },
     "execution_count": 259,
     "metadata": {},
     "output_type": "execute_result"
    }
   ],
   "source": [
    "knn_auc = roc_auc_score(ytest, y_pred)\n",
    "knn_auc"
   ]
  },
  {
   "cell_type": "code",
   "execution_count": 27,
   "id": "46b1a778-b766-47f6-a1dc-9d6dae4a27a8",
   "metadata": {},
   "outputs": [
    {
     "data": {
      "text/plain": [
       "array([[ 71,  57],\n",
       "       [ 25, 115]], dtype=int64)"
      ]
     },
     "execution_count": 27,
     "metadata": {},
     "output_type": "execute_result"
    }
   ],
   "source": [
    "cm = confusion_matrix(ytest, y_pred)\n",
    "cm"
   ]
  },
  {
   "cell_type": "code",
   "execution_count": 28,
   "id": "912ec39c-78b9-4d13-9990-7347ebab1ac5",
   "metadata": {},
   "outputs": [
    {
     "data": {
      "image/png": "[encoded data removed]",
      "text/plain": [
       "<Figure size 300x300 with 2 Axes>"
      ]
     },
     "metadata": {},
     "output_type": "display_data"
    }
   ],
   "source": [
    "cm_display = ConfusionMatrixDisplay(cm, display_labels=['offer', 'Not Offer'])\n",
    "fig, ax = plt.subplots(figsize=(3, 3))\n",
    "cm_display.plot(cmap='Blues', values_format='.0f', ax=ax)\n",
    "plt.title('Confusion Matrix')\n",
    "plt.show()"
   ]
  },
  {
   "cell_type": "code",
   "execution_count": 29,
   "id": "4afc0cad-5457-4954-a483-3c90c0fc08d8",
   "metadata": {},
   "outputs": [
    {
     "name": "stdout",
     "output_type": "stream",
     "text": [
      "              precision    recall  f1-score   support\n",
      "\n",
      "           0       0.74      0.55      0.63       128\n",
      "           1       0.67      0.82      0.74       140\n",
      "\n",
      "    accuracy                           0.69       268\n",
      "   macro avg       0.70      0.69      0.69       268\n",
      "weighted avg       0.70      0.69      0.69       268\n",
      "\n"
     ]
    }
   ],
   "source": [
    "print(classification_report(ytest, y_pred))"
   ]
  },
  {
   "cell_type": "markdown",
   "id": "8f1f17af-9194-44d3-85bb-d2c5c1ee6cd6",
   "metadata": {},
   "source": [
    "### Checking the model with our prediction"
   ]
  },
  {
   "cell_type": "markdown",
   "id": "5db217cc-c080-4c1d-971a-c9d90d0fcc1c",
   "metadata": {},
   "source": [
    "### 1. Cards 1, Debit Card 1, Insurance 1, Age 20, Cibil Score 0.3"
   ]
  },
  {
   "cell_type": "code",
   "execution_count": 226,
   "id": "0f88db5c-7f0e-4589-8df0-0cab2ab47053",
   "metadata": {},
   "outputs": [
    {
     "data": {
      "text/plain": [
       "array([1], dtype=int64)"
      ]
     },
     "execution_count": 226,
     "metadata": {},
     "output_type": "execute_result"
    }
   ],
   "source": [
    "knn.predict([[0, 1, 1, 35, 0.3]])"
   ]
  },
  {
   "cell_type": "markdown",
   "id": "fc9c434d-c1e9-479d-9880-bcbf0ea1d5e9",
   "metadata": {},
   "source": [
    "### 2. Cards 0, Debit Card 1, Insurance 1, Age 35, Cibil Score 0.04"
   ]
  },
  {
   "cell_type": "code",
   "execution_count": 230,
   "id": "b9eded94-f4cf-4687-ba78-2f3d8bf25bb6",
   "metadata": {},
   "outputs": [
    {
     "data": {
      "text/plain": [
       "array([1], dtype=int64)"
      ]
     },
     "execution_count": 230,
     "metadata": {},
     "output_type": "execute_result"
    }
   ],
   "source": [
    "knn.predict([[0, 1, 1, 35, 0.04]])"
   ]
  },
  {
   "cell_type": "code",
   "execution_count": null,
   "id": "ca40c993-d6d4-481d-bb1f-f4e928246494",
   "metadata": {},
   "outputs": [],
   "source": []
  },
  {
   "cell_type": "markdown",
   "id": "3bf9c37d-6988-4aa8-9489-1ab11addc651",
   "metadata": {},
   "source": [
    "### Roc Curves"
   ]
  },
  {
   "cell_type": "code",
   "execution_count": 244,
   "id": "47c245a7-a379-4ab6-a5ec-286fb2bb1a15",
   "metadata": {},
   "outputs": [],
   "source": [
    "lc_fpr, lc_tpr, lc_threshold = roc_curve(ytest, lc.predict_proba(Xtest)[:,1])\n",
    "svm_fpr, svm_tpr, svm_threshold = roc_curve(ytest, svm.predict_proba(Xtest)[:,1])\n",
    "knn_fpr, knn_tpr, knn_threshold = roc_curve(ytest, knn.predict_proba(Xtest)[:,1])"
   ]
  },
  {
   "cell_type": "code",
   "execution_count": 261,
   "id": "2e64c2fb-97a1-45a8-a028-ea51c4421e86",
   "metadata": {},
   "outputs": [
    {
     "data": {
      "text/plain": [
       "<matplotlib.legend.Legend at 0x234bc386d90>"
      ]
     },
     "execution_count": 261,
     "metadata": {},
     "output_type": "execute_result"
    },
    {
     "data": {
      "image/png": "[encoded data removed]",
      "text/plain": [
       "<Figure size 640x480 with 1 Axes>"
      ]
     },
     "metadata": {},
     "output_type": "display_data"
    }
   ],
   "source": [
    "plt.plot(lc_fpr, lc_tpr, color='red', label=f'LR model (AUC = {lc_auc:.2f})')\n",
    "plt.plot(svm_fpr, svm_tpr, color='green', label=f'SVM model (AUC = {svm_auc:.2f})')\n",
    "plt.plot(knn_fpr, knn_tpr, color='blue', label=f'KNN model (AUC = {knn_auc:.2f})')\n",
    "plt.plot([0, 1], [0, 1], 'k--')\n",
    "plt.xlabel('False Positive Rate or [1 - True Negative Rate]')\n",
    "plt.ylabel('True Positive Rate')\n",
    "plt.legend(loc='lower right')"
   ]
  },
  {
   "cell_type": "code",
   "execution_count": null,
   "id": "76bbf7dd-1588-4930-ae8e-0541d6f75069",
   "metadata": {},
   "outputs": [],
   "source": []
  },
  {
   "cell_type": "markdown",
   "id": "5fd56a71-07f7-4a51-871a-2f5939c8d41f",
   "metadata": {},
   "source": [
    "## Conclusion"
   ]
  },
  {
   "cell_type": "markdown",
   "id": "9b16940e-020d-4e2b-9622-4ab9e0d7fc75",
   "metadata": {},
   "source": [
    "## We have performed 3 Classifier Models\n",
    "### 1. Logitic Regresson Model with 74.25% Accuracy and 0.74 auc\n",
    "### 2. Support Vector Machine (SVC) with 68.80% Accuracy and 0.69 auc\n",
    "### 3. KNearest Neighbor Classifier with 68.79% Accuracy and 0.69 auc"
   ]
  },
  {
   "cell_type": "markdown",
   "id": "7527aa94-2899-4a82-b5ff-277b592ba0ac",
   "metadata": {},
   "source": [
    "### Out of these 3, only ***Logistic Regression*** Performed good so we are choosing Logistic Regression."
   ]
  },
  {
   "cell_type": "code",
   "execution_count": null,
   "id": "67b10064-8ec2-42fb-9962-d28e4e194e79",
   "metadata": {},
   "outputs": [],
   "source": []
  }
 ],
 "metadata": {
  "kernelspec": {
   "display_name": "Python 3 (ipykernel)",
   "language": "python",
   "name": "python3"
  },
  "language_info": {
   "codemirror_mode": {
    "name": "ipython",
    "version": 3
   },
   "file_extension": ".py",
   "mimetype": "text/x-python",
   "name": "python",
   "nbconvert_exporter": "python",
   "pygments_lexer": "ipython3",
   "version": "3.11.5"
  }
 },
 "nbformat": 4,
 "nbformat_minor": 5
}
